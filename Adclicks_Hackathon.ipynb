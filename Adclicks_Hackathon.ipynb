{
  "cells": [
    {
      "metadata": {
        "trusted": true,
        "_uuid": "53e2e987f54fe713b5062dd22ce61e3aa7e47cb7"
      },
      "cell_type": "code",
      "source": "import numpy as np\nimport pandas as pd\nimport seaborn as sns\nimport matplotlib.pyplot as plt\nfrom sklearn.preprocessing import LabelEncoder\nfrom tqdm import tqdm\nfrom sklearn.metrics import accuracy_score\nfrom sklearn.preprocessing import PolynomialFeatures\nfrom sklearn.pipeline import Pipeline\nfrom sklearn.model_selection import train_test_split\nfrom xgboost import XGBClassifier\nfrom sklearn.ensemble import RandomForestClassifier\n",
      "execution_count": null,
      "outputs": []
    },
    {
      "metadata": {
        "trusted": true,
        "_uuid": "86c32c3d0d0e52c34c26130de8eef9245b31f430",
        "scrolled": false
      },
      "cell_type": "code",
      "source": "from subprocess import check_output\nprint(check_output([\"ls\", \"../input/adclickstrain/train/train.csv\"]).decode(\"utf8\"))",
      "execution_count": null,
      "outputs": []
    },
    {
      "metadata": {
        "_uuid": "97a2b7bbb65834b4e39701708160f6aceb5bb63f"
      },
      "cell_type": "markdown",
      "source": "**Reading Data**"
    },
    {
      "metadata": {
        "trusted": true,
        "_uuid": "4866ed658de66ca0b355eaf468b392ab70052366"
      },
      "cell_type": "code",
      "source": "train = []\nfor num, i in tqdm(enumerate(pd.read_csv(\"../input/adclickstrain/train/train.csv\", chunksize=10000))):\n    x_train , _ = train_test_split(i, test_size=0.50)\n    train.append(x_train)\n    #print(i.shape)",
      "execution_count": null,
      "outputs": []
    },
    {
      "metadata": {
        "trusted": true,
        "_uuid": "1d917fc2c0ffbd77b84ea1d3b0a9cc7475a1ba56"
      },
      "cell_type": "code",
      "source": "x_train = pd.concat(train)\nx_train.shape",
      "execution_count": null,
      "outputs": []
    },
    {
      "metadata": {
        "_uuid": "1fd09600afeb415e20de28689588820d8bee39f9"
      },
      "cell_type": "markdown",
      "source": "**EDA and Data Preprocessing**"
    },
    {
      "metadata": {
        "trusted": true,
        "_uuid": "ddcd8698c3c95abc9e320231f87cc13aa5a25edb"
      },
      "cell_type": "code",
      "source": "x_train['click'].value_counts()",
      "execution_count": null,
      "outputs": []
    },
    {
      "metadata": {
        "trusted": true,
        "_uuid": "9741d56dc13472bb2e1aa6481e9e1de786d24f57",
        "scrolled": true
      },
      "cell_type": "code",
      "source": "x_train.head()",
      "execution_count": null,
      "outputs": []
    },
    {
      "metadata": {
        "trusted": true,
        "_uuid": "4ae3c49db388f4d80513abf933976cb43800d186"
      },
      "cell_type": "code",
      "source": "x_train.isnull().values.any()",
      "execution_count": null,
      "outputs": []
    },
    {
      "metadata": {
        "trusted": true,
        "_uuid": "97b7592b354eb0d428926074ef5be5f00f7eda47"
      },
      "cell_type": "code",
      "source": "#Plot missing values for each column\nmissing_df = x_train.isnull().sum(axis=0).reset_index()\nmissing_df.columns = ['column_name', 'missing_count']\nmissing_df = missing_df.loc[missing_df['missing_count']>0]\nmissing_df = missing_df.sort_values(by='missing_count')\nprint(missing_df)",
      "execution_count": null,
      "outputs": []
    },
    {
      "metadata": {
        "trusted": true,
        "_uuid": "f41d11ed40a8fa47f733688e18a56ea508cb42cd"
      },
      "cell_type": "code",
      "source": "ind = np.arange(missing_df.shape[0])\nwidth = 0.9\nfig, ax = plt.subplots(figsize=(8,6))\nrects = ax.barh(ind, missing_df.missing_count.values, color='blue')\nax.set_yticks(ind)\nax.set_yticklabels(missing_df.column_name.values, rotation='horizontal')\nax.set_xlabel(\"Count of missing values\")\nax.set_title(\"Number of missing values in each column\")\nplt.show()",
      "execution_count": null,
      "outputs": []
    },
    {
      "metadata": {
        "trusted": true,
        "_uuid": "97aae9f5b289982ab145e3676712636905267e4b"
      },
      "cell_type": "code",
      "source": "cat_cols = ['countrycode','browserid','devid']",
      "execution_count": null,
      "outputs": []
    },
    {
      "metadata": {
        "trusted": true,
        "_uuid": "5716e1e6b0582be4cf38c55ed1b16f750cbf98cc"
      },
      "cell_type": "code",
      "source": "for col in cat_cols:\n    lbl = LabelEncoder()\n    lbl.fit(list(x_train[col].values))\n    x_train[col] = lbl.transform(list(x_train[col].values))",
      "execution_count": null,
      "outputs": []
    },
    {
      "metadata": {
        "trusted": true,
        "_uuid": "5002202570f1e26a5be27690f25dc96bf3ad5038"
      },
      "cell_type": "code",
      "source": "print(x_train['siteid'].mean())\nprint(x_train['siteid'].median())\ntrain_mode = x_train['siteid'].mode()\nprint(train_mode)\nx_train.head()",
      "execution_count": null,
      "outputs": []
    },
    {
      "metadata": {
        "trusted": true,
        "_uuid": "c85ac5720b44aa9055d8d05f7f393874b627676c"
      },
      "cell_type": "code",
      "source": "x_train['siteid'].fillna(8896401.0, inplace=True)",
      "execution_count": null,
      "outputs": []
    },
    {
      "metadata": {
        "trusted": true,
        "_uuid": "73de8015355e3c61d8d15fcfbf0ebec9709e01ed"
      },
      "cell_type": "code",
      "source": "x_train['siteid'].isnull().value_counts()",
      "execution_count": null,
      "outputs": []
    },
    {
      "metadata": {
        "trusted": true,
        "_uuid": "e7053765ec9eaf03dc426753c8431c73579eba28"
      },
      "cell_type": "code",
      "source": "x_train['browserid'].fillna(\"Edge\", inplace=True)",
      "execution_count": null,
      "outputs": []
    },
    {
      "metadata": {
        "trusted": true,
        "_uuid": "01138bb70e8852ddf44936769f7c048e3ccbdcff"
      },
      "cell_type": "code",
      "source": "x_train['devid'].fillna(\"Mobile\", inplace=True)",
      "execution_count": null,
      "outputs": []
    },
    {
      "metadata": {
        "trusted": true,
        "_uuid": "dccb0043711d95a6c51907889227a682a7028945"
      },
      "cell_type": "code",
      "source": "x_train.head()",
      "execution_count": null,
      "outputs": []
    },
    {
      "metadata": {
        "trusted": true,
        "_uuid": "8638df4b59d270d3c00dc5a785ba3a8aaadab937"
      },
      "cell_type": "code",
      "source": "sns.set(style=\"white\")\ncorr = x_train.corr()\n# Set up the matplotlib figure\nf, ax = plt.subplots(figsize=(11, 9))\n\n# Generate a custom diverging colormap\ncmap = sns.diverging_palette(220, 10, as_cmap=True)\n\n# Draw the heatmap with the mask and correct aspect ratio\nsns.heatmap(corr, cmap=cmap, vmax=.3, center=0,\n            square=True, linewidths=.5, cbar_kws={\"shrink\": .5})\n\nplt.show()",
      "execution_count": null,
      "outputs": []
    },
    {
      "metadata": {
        "_uuid": "13d9c9a38664d4dc6d420afa26e27b249165e655"
      },
      "cell_type": "markdown",
      "source": "**Mean Encoding**"
    },
    {
      "metadata": {
        "trusted": true,
        "_uuid": "9d915208dfe6162a5a72f89345b530afeba4563b"
      },
      "cell_type": "code",
      "source": "siteid = x_train[\"siteid\"].value_counts().reset_index()\nsiteid.columns = [\"siteid\", \"count\"]\nsiteid.head()",
      "execution_count": null,
      "outputs": []
    },
    {
      "metadata": {
        "trusted": true,
        "_uuid": "6b9b017f631ea93950d0fb49e6cf78aa31120d2e"
      },
      "cell_type": "code",
      "source": "#plt.hist(siteid[\"count\"], bins = 10)\n#plt.show()",
      "execution_count": null,
      "outputs": []
    },
    {
      "metadata": {
        "trusted": true,
        "_uuid": "d3094db7ec59b0542a3d8b6868859958285d4c83"
      },
      "cell_type": "code",
      "source": "print(siteid.shape)\nprint(siteid[siteid[\"count\"] > 50].shape)\nreq_siteid = siteid[siteid[\"count\"] > 50][\"siteid\"].values  #Selecting siteID which occurs greater than 50 \nreq_siteid.shape\nx_train[\"siteid\"]= x_train[\"siteid\"].apply(lambda x: x if x in req_siteid else \"others\") #Replacing Site ID with 'others' whose SiteID occurence is smaller than 50' \n",
      "execution_count": null,
      "outputs": []
    },
    {
      "metadata": {
        "trusted": true,
        "_uuid": "09b8db64bfb4be28bdfaec9f52a23d1f37504454"
      },
      "cell_type": "code",
      "source": "siteid_mean_enc = x_train.groupby([\"siteid\"])[\"click\"].mean().reset_index()\nsiteid_mean_enc.columns = [\"siteid\", \"mean_siteid_enc\"]\nsiteid_mean_enc.head()\nx_train = pd.merge(x_train, siteid_mean_enc, on=\"siteid\", how=\"left\")",
      "execution_count": null,
      "outputs": []
    },
    {
      "metadata": {
        "trusted": true,
        "scrolled": true,
        "_uuid": "dface9c5ca1c8c3f3cc04ec1151255fce03f15a6"
      },
      "cell_type": "code",
      "source": "offerid = x_train[\"offerid\"].value_counts().reset_index()\nofferid.columns = [\"offerid\", \"count\"]\nofferid.head()\n#plt.hist(offerid[\"count\"], bins = 100)\n#plt.show()\nprint(offerid.shape)\nprint(offerid[offerid[\"count\"] > 50].shape)\nreq_offerid = offerid[offerid[\"count\"] > 50][\"offerid\"].values \nx_train[\"offerid\"]= x_train[\"offerid\"].apply(lambda x: x if x in req_offerid else \"others_offer\")\nofferid_mean_enc = x_train.groupby([\"offerid\"])[\"click\"].mean().reset_index()\nofferid_mean_enc.columns = [\"offerid\", \"mean_offerid_enc\"]\n",
      "execution_count": null,
      "outputs": []
    },
    {
      "metadata": {
        "trusted": true,
        "_uuid": "72c8351f410a30f4fe253e383a37919cb2c36094"
      },
      "cell_type": "code",
      "source": "x_train.head()",
      "execution_count": null,
      "outputs": []
    },
    {
      "metadata": {
        "trusted": true,
        "_uuid": "bb919ef41c05547063944d85c3fda6626b4fbe8d"
      },
      "cell_type": "code",
      "source": "x_train = pd.merge(x_train, offerid_mean_enc, on=\"offerid\", how=\"left\")",
      "execution_count": null,
      "outputs": []
    },
    {
      "metadata": {
        "trusted": true,
        "scrolled": true,
        "_uuid": "6df4862d3a83c66b8b20ddb243696cf79f8f8617"
      },
      "cell_type": "code",
      "source": "x_train.head()",
      "execution_count": null,
      "outputs": []
    },
    {
      "metadata": {
        "_uuid": "691752297f41b402eb10447d3fde2acb1c0855d8"
      },
      "cell_type": "markdown",
      "source": "** Splitting dateTime Column**"
    },
    {
      "metadata": {
        "trusted": true,
        "_uuid": "edc20d512118d64e1876098c6df31f611e255708"
      },
      "cell_type": "code",
      "source": "x_train['datetime'] = pd.to_datetime(x_train['datetime'])",
      "execution_count": null,
      "outputs": []
    },
    {
      "metadata": {
        "trusted": true,
        "_uuid": "0d2132c9a2ca20206948f997ed6af75e0b877b66"
      },
      "cell_type": "code",
      "source": "x_train['day'] = x_train['datetime'].dt.weekday",
      "execution_count": null,
      "outputs": []
    },
    {
      "metadata": {
        "trusted": true,
        "_uuid": "46b734f2830cd1a01c9fea0cfccf5efa58839eb3"
      },
      "cell_type": "code",
      "source": "x_train['hour'] = x_train['datetime'].dt.hour",
      "execution_count": null,
      "outputs": []
    },
    {
      "metadata": {
        "trusted": true,
        "_uuid": "959f25cd186c7e543ae34ed1a755cedcf9c813d0"
      },
      "cell_type": "code",
      "source": "x_train['minute'] = x_train['datetime'].dt.minute ",
      "execution_count": null,
      "outputs": []
    },
    {
      "metadata": {
        "trusted": true,
        "_uuid": "b5d418d9312f53d05f0f9a2d4d8c469bfbe49b70"
      },
      "cell_type": "code",
      "source": "x_train.isnull().sum()",
      "execution_count": null,
      "outputs": []
    },
    {
      "metadata": {
        "trusted": true,
        "_uuid": "d620c9982f35efe7a944524149c8b55a12d470ed"
      },
      "cell_type": "code",
      "source": "x_train.dtypes",
      "execution_count": null,
      "outputs": []
    },
    {
      "metadata": {
        "trusted": true,
        "_uuid": "d8db0bc517fe469ab1a2f3edf8ba193ac46a5f4f",
        "scrolled": false
      },
      "cell_type": "code",
      "source": "sns.set(style=\"white\")\ncorr = x_train.corr()\n# Set up the matplotlib figure\nf, ax = plt.subplots(figsize=(11, 9))\n\n# Generate a custom diverging colormap\ncmap = sns.diverging_palette(220, 10, as_cmap=True)\n\n# Draw the heatmap with the mask and correct aspect ratio\nsns.heatmap(corr, cmap=cmap, vmax=.3, center=0,\n            square=True, linewidths=.5, cbar_kws={\"shrink\": .5})\n\nplt.show()",
      "execution_count": null,
      "outputs": []
    },
    {
      "metadata": {
        "trusted": true,
        "_uuid": "a99f1f721ad7018edfa14c8d7e0b63d84718b77d"
      },
      "cell_type": "code",
      "source": "cols_to_use = list(set(x_train.columns) - set(['ID','siteid','datetime','click','offerid','category','day','minute','merchant']))",
      "execution_count": null,
      "outputs": []
    },
    {
      "metadata": {
        "trusted": true,
        "_uuid": "c285ab3b4494f734ff7280dcd745f146e22a8ceb",
        "scrolled": false
      },
      "cell_type": "code",
      "source": "cols_to_use",
      "execution_count": null,
      "outputs": []
    },
    {
      "metadata": {
        "trusted": true,
        "_uuid": "b3d8c9768c475cd187bf74479175136dab0fbc6a"
      },
      "cell_type": "markdown",
      "source": "**Logistic Regression**"
    },
    {
      "metadata": {
        "trusted": true,
        "_uuid": "1b0f9362834532dca8f9b684548c3003d7a27920"
      },
      "cell_type": "code",
      "source": "from sklearn.linear_model import LogisticRegression\nX_train,X_test,y_train,y_test = train_test_split(x_train[cols_to_use],x_train['click'],test_size = 0.5)\nlogistic_regressor = LogisticRegression()",
      "execution_count": null,
      "outputs": []
    },
    {
      "metadata": {
        "trusted": true,
        "_uuid": "b0ad95ce72609fde5127fea6f4c4674d08fa35b8"
      },
      "cell_type": "code",
      "source": "pipeline = Pipeline(steps=[('add_poly_features', PolynomialFeatures()),\n                           ('logistic_regression', logistic_regressor)])",
      "execution_count": null,
      "outputs": []
    },
    {
      "metadata": {
        "trusted": true,
        "scrolled": true,
        "_uuid": "7ba2dada4bcc7afa32930623c5f42c5436fe06da"
      },
      "cell_type": "code",
      "source": "pipeline.fit(X_train, y_train)\ny_pred = pipeline.predict(X_test)\nprint(accuracy_score(y_test, y_pred))",
      "execution_count": null,
      "outputs": []
    },
    {
      "metadata": {
        "trusted": true,
        "scrolled": true,
        "_uuid": "1a6b76011ef9dc20bea0c2124c4254b39bc86a36"
      },
      "cell_type": "code",
      "source": "from sklearn import metrics\nfpr, tpr, thresholds = metrics.roc_curve(y_test, y_pred, pos_label=1)\nroc_auc = metrics.auc(fpr, tpr)\nprint(roc_auc)",
      "execution_count": null,
      "outputs": []
    },
    {
      "metadata": {
        "trusted": true,
        "_uuid": "ce5b49963caab24dea93a82ad0f302b551e5d812",
        "scrolled": true
      },
      "cell_type": "code",
      "source": "from sklearn.metrics import f1_score, precision_score, recall_score\nprint(f1_score(y_test,y_pred))\nprint(precision_score(y_test,y_pred))\nprint(recall_score(y_test,y_pred))",
      "execution_count": null,
      "outputs": []
    },
    {
      "metadata": {
        "trusted": true,
        "_uuid": "4b6dbf04fce0e79eed27276db2f877d749f13a7f",
        "scrolled": true
      },
      "cell_type": "code",
      "source": "# Applying confusion matrix on above data\nfrom sklearn.metrics import confusion_matrix\ncm = confusion_matrix(y_test,y_pred)\nprint(cm)",
      "execution_count": null,
      "outputs": []
    },
    {
      "metadata": {
        "trusted": true,
        "_uuid": "8e13c8e1bef1811c610ed466203d2db7f987bcad"
      },
      "cell_type": "code",
      "source": "plt.title('Receiver Operating Characteristic')\nplt.plot(fpr, tpr, 'b',label='AUC = %0.2f'% roc_auc)\nplt.legend(loc='lower right')\nplt.plot([0,1],[0,1],'r--')\nplt.xlim([-0.1,1.2])\nplt.ylim([-0.1,1.2])\nplt.ylabel('True Positive Rate')\nplt.xlabel('False Positive Rate')\nplt.show()",
      "execution_count": null,
      "outputs": []
    },
    {
      "metadata": {
        "trusted": true,
        "_uuid": "6a9bebf768c80a16ff50e7b87765029468182611"
      },
      "cell_type": "markdown",
      "source": "**XG Boost**"
    },
    {
      "metadata": {
        "trusted": true,
        "_uuid": "3a2bef86dfa956508b13f5134c31e9710c0f546a"
      },
      "cell_type": "code",
      "source": "target = x_train['click']\nXG_train, XG_test, yG_train, yG_test = train_test_split(x_train[cols_to_use], x_train['click'], test_size=0.50, random_state=42, stratify = target)",
      "execution_count": null,
      "outputs": []
    },
    {
      "metadata": {
        "trusted": true,
        "_uuid": "de4d328206134345778dc0f008e89f179a7d3557",
        "scrolled": true
      },
      "cell_type": "code",
      "source": "model = XGBClassifier()\nmodel.fit(XG_train, yG_train)",
      "execution_count": null,
      "outputs": []
    },
    {
      "metadata": {
        "trusted": true,
        "_uuid": "83e627efc89c97c955191001512164a6a8340c79"
      },
      "cell_type": "code",
      "source": "yG_pred = model.predict(XG_test)\npredictions = [round(value) for value in yG_pred]",
      "execution_count": null,
      "outputs": []
    },
    {
      "metadata": {
        "trusted": true,
        "_uuid": "7262ef0820faae228b657b1fb1c66b8228f12146",
        "scrolled": false
      },
      "cell_type": "code",
      "source": "# evaluate predictions\naccuracy = accuracy_score(yG_test, predictions)\nprint(\"Accuracy: %.2f%%\" % (accuracy * 100.0))",
      "execution_count": null,
      "outputs": []
    },
    {
      "metadata": {
        "trusted": true,
        "_uuid": "e4b42042bf02a8304f0970d4d432528a69047a0b"
      },
      "cell_type": "code",
      "source": "# Applying confusion matrix on above data\nfrom sklearn.metrics import confusion_matrix\ncm = confusion_matrix(yG_test,yG_pred)\nprint(cm)",
      "execution_count": null,
      "outputs": []
    },
    {
      "metadata": {
        "trusted": true,
        "_uuid": "d70daceacf08b51c76a8297cce6b46991012137a"
      },
      "cell_type": "code",
      "source": "from sklearn.metrics import f1_score, precision_score, recall_score\nprint(f1_score(yG_test,yG_pred))\nprint(precision_score(y_test,y_pred))\nprint(recall_score(y_test,y_pred))",
      "execution_count": null,
      "outputs": []
    },
    {
      "metadata": {
        "trusted": true,
        "_uuid": "89e6e1416c6c522e0a60e7aca8fc28c157bc9bf0"
      },
      "cell_type": "code",
      "source": "from sklearn import metrics\nGfpr, Gtpr, thresholds = metrics.roc_curve(yG_test, yG_pred, pos_label=1)\nroc_aucG = metrics.auc(Gfpr, Gtpr)\nprint(roc_aucG)",
      "execution_count": null,
      "outputs": []
    },
    {
      "metadata": {
        "trusted": true,
        "_uuid": "82884d22beca33d279dac6ebf2299fbe98f33a36"
      },
      "cell_type": "markdown",
      "source": "**Random Forest model**\n"
    },
    {
      "metadata": {
        "trusted": true,
        "_uuid": "f95af9f0d1e4c6ffbe283ecb37ec40d1b97576f9"
      },
      "cell_type": "code",
      "source": "XR_train, XR_test, yR_train, yR_test = train_test_split(x_train[cols_to_use], x_train['click'], test_size=0.50, random_state=42)\n",
      "execution_count": null,
      "outputs": []
    },
    {
      "metadata": {
        "trusted": true,
        "_uuid": "82d314c623670ccf6405737211eb7115c2b021ca"
      },
      "cell_type": "code",
      "source": "rf_clf=RandomForestClassifier(n_estimators=100,n_jobs=10,random_state=0, min_samples_leaf=10)\nrf_clf.fit(XR_train, yR_train)",
      "execution_count": null,
      "outputs": []
    },
    {
      "metadata": {
        "trusted": true,
        "_uuid": "78cb30177dc8a0b1e255356337f522bfce29b73f"
      },
      "cell_type": "code",
      "source": "score_rf=rf_clf.score(XR_test, yR_test)\nprint(\"Testing score: %.2f \" % score_rf)",
      "execution_count": null,
      "outputs": []
    },
    {
      "metadata": {
        "trusted": true,
        "scrolled": true,
        "_uuid": "a3eb666dec2380832ccfec9152b36712dd66ee8e"
      },
      "cell_type": "code",
      "source": "yR_pred = rf_clf.predict(XR_test)\nprint(accuracy_score(yR_test, yR_pred))",
      "execution_count": null,
      "outputs": []
    },
    {
      "metadata": {
        "trusted": true,
        "_uuid": "40acaa7d1ac5030dbfad66411f848de74c485946"
      },
      "cell_type": "code",
      "source": "from sklearn import metrics\nRfpr, Rtpr, thresholds = metrics.roc_curve(yR_test, yR_pred, pos_label=1)\nroc_aucR = metrics.auc(Rfpr, Rtpr)\nprint(roc_aucR)",
      "execution_count": null,
      "outputs": []
    },
    {
      "metadata": {
        "trusted": true,
        "scrolled": true,
        "_uuid": "aad492951c6c8ce458be52cb5eeef3b45298af63"
      },
      "cell_type": "code",
      "source": "from sklearn.metrics import f1_score\nf1_score = f1_score(yR_test,yR_pred)\nprint(f1_score)\nfrom sklearn.metrics import confusion_matrix\nconfusion_matrix(yR_test,yR_pred)",
      "execution_count": null,
      "outputs": []
    },
    {
      "metadata": {
        "trusted": true,
        "_uuid": "f5e6a2338e1f11f9b0a58c1253446c71858f588c"
      },
      "cell_type": "code",
      "source": "from sklearn.metrics import f1_score, precision_score, recall_score\nprint(f1_score(yR_test,yR_pred))\nprint(precision_score(yR_test,yR_pred))\nprint(recall_score(yR_test,yR_pred))",
      "execution_count": null,
      "outputs": []
    },
    {
      "metadata": {
        "_uuid": "044764d33521ed7032c83bf197f79734a8b14c37"
      },
      "cell_type": "markdown",
      "source": "**AUC-ROC score comparision**"
    },
    {
      "metadata": {
        "trusted": true,
        "_uuid": "9001813c774232ba5ac26004996120211a7594bc",
        "scrolled": true
      },
      "cell_type": "code",
      "source": "plt.title('Receiver Operating Characteristic')\nplt.plot(fpr, tpr, 'b',label='AUC = %0.2f'% roc_auc)\nplt.plot(Gfpr, Gtpr, 'g',label='XGAUC = %0.2f'% roc_aucG)\nplt.plot(Gfpr, Gtpr, 'y',label='RAUC = %0.2f'% roc_aucR)\nplt.legend(loc='lower right')\nplt.plot([0,1],[0,1],'r--')\nplt.xlim([-0.1,1.2])\nplt.ylim([-0.1,1.2])\nplt.ylabel('True Positive Rate')\nplt.xlabel('False Positive Rate')\nplt.show()",
      "execution_count": null,
      "outputs": []
    }
  ],
  "metadata": {
    "kernelspec": {
      "display_name": "Python 3",
      "language": "python",
      "name": "python3"
    },
    "language_info": {
      "name": "python",
      "version": "3.6.6",
      "mimetype": "text/x-python",
      "codemirror_mode": {
        "name": "ipython",
        "version": 3
      },
      "pygments_lexer": "ipython3",
      "nbconvert_exporter": "python",
      "file_extension": ".py"
    }
  },
  "nbformat": 4,
  "nbformat_minor": 1
}